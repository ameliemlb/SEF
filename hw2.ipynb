{
 "cells": [
  {
   "cell_type": "markdown",
   "metadata": {},
   "source": [
    "## Sustainable and Entrepreneurial Finance- Homework #2"
   ]
  },
  {
   "cell_type": "markdown",
   "metadata": {},
   "source": [
    "### Question 1- Summary statistics\n"
   ]
  },
  {
   "cell_type": "code",
   "execution_count": null,
   "metadata": {},
   "outputs": [],
   "source": [
    "#Necessary libraries to run the code\n",
    "import pandas as pd\n",
    "import numpy as np\n",
    "from scipy.optimize import minimize\n",
    "import matplotlib.pyplot as plt\n",
    "import seaborn as sns"
   ]
  },
  {
   "cell_type": "markdown",
   "metadata": {},
   "source": [
    "#### Q1"
   ]
  },
  {
   "cell_type": "code",
   "execution_count": null,
   "metadata": {},
   "outputs": [],
   "source": [
    "file_path_E_score = r\"data_h1/filtered_data\\DS_EScore_Y.xlsx\"\n",
    "df_e_scores = pd.read_excel(file_path_E_score , sheet_name=\"EUR\", index_col=0, parse_dates=True)\n",
    "\n",
    "df_e_scores_filtered = df_e_scores.loc[:, 2002:2023]\n",
    "\n",
    "# Summary statistics\n",
    "summary_stats = df_e_scores_filtered.describe().T\n",
    "print(\"Summary Statistics:\")\n",
    "display(summary_stats.T)\n",
    "\n",
    "\n",
    "summary_stats.drop(columns=['count','min']).plot(kind='line', figsize=(10, 6), title='Summary Statistics', marker='o', colormap='Paired')\n",
    "plt.xticks(rotation=0)\n",
    "plt.ylabel('Value')\n",
    "plt.grid(True)\n",
    "plt.tight_layout()\n",
    "plt.legend(title=\"Statistics\", loc=\"upper left\")\n",
    "plt.xlabel(\"Year\")\n",
    "plt.title(\"Summary Statistics of Environmental Scores of European Firms\", fontsize=14, fontweight=\"bold\")\n",
    "plt.show()\n",
    "\n"
   ]
  },
  {
   "cell_type": "code",
   "execution_count": null,
   "metadata": {},
   "outputs": [],
   "source": [
    "summary_stats['mean'].plot(kind='bar', figsize=(10, 6), title='Summary Statistics', colormap='Paired')\n",
    "plt.xticks(rotation=0)\n",
    "plt.ylabel('E Score Value averaged over all firms (%)')\n",
    "plt.grid(True)\n",
    "plt.tight_layout()\n",
    "plt.legend(title=\"Statistics\", loc=\"upper left\")\n",
    "plt.xlabel(\"Year\")\n",
    "plt.title(\"Mean Value of Environmental Scores of European Firms\", fontsize=14, fontweight=\"bold\")\n",
    "plt.show()\n"
   ]
  },
  {
   "cell_type": "code",
   "execution_count": null,
   "metadata": {},
   "outputs": [],
   "source": [
    "# Find the firm with the maximal E score for each year\n",
    "max_e_score_firms = df_e_scores_filtered.idxmax()\n",
    "max_e_score_values = df_e_scores_filtered.max()\n",
    "\n",
    "# Create a dataframe with the results\n",
    "max_e_score_df = pd.DataFrame({\n",
    "    'Year': max_e_score_firms.index,\n",
    "    'Firm': max_e_score_firms.values,\n",
    "    'Max E Score': max_e_score_values.values\n",
    "})\n",
    "\n",
    "print(max_e_score_df)"
   ]
  },
  {
   "cell_type": "code",
   "execution_count": null,
   "metadata": {},
   "outputs": [],
   "source": [
    "# Filter rows where any score is equal to 0\n",
    "companies_with_zero_score = df_e_scores_filtered[df_e_scores_filtered.eq(0).any(axis=1)]\n",
    "\n",
    "# Display the resulting dataframe\n",
    "print(\"Companies with a score equal to 0:\")\n",
    "display(companies_with_zero_score)\n",
    "# Filter rows where all scores are equal to 0\n",
    "companies_with_only_zero_scores = df_e_scores_filtered[df_e_scores_filtered.eq(0).all(axis=1)]\n",
    "\n",
    "# Display the resulting dataframe\n",
    "print(\"Companies with only 0 scores:\")\n",
    "display(companies_with_only_zero_scores)"
   ]
  },
  {
   "cell_type": "code",
   "execution_count": null,
   "metadata": {},
   "outputs": [],
   "source": [
    "file_path_E_score = r\"data_h1/filtered_data\\DS_EScore_Y.xlsx\"\n",
    "df_e_scores = pd.read_excel(file_path_E_score , sheet_name=\"EUR\", index_col=0, parse_dates=True)\n",
    "\n",
    "file_path_market_value= r\"data_h1/filtered_data\\DS_MV_T_USD_Y.xlsx\"\n",
    "df_market_value = pd.read_excel(file_path_market_value , sheet_name=\"EUR+ES\", index_col=0, parse_dates=True)\n",
    "\n",
    "\n",
    "file_path_yearly_returns= r\"data_h1/filtered_data\\DS_RI_T_USD_Y.xlsx\"\n",
    "df_returns_yearly = pd.read_excel(file_path_yearly_returns , sheet_name=\"EUR+ES\", index_col=0, parse_dates=True)\n",
    "\n"
   ]
  },
  {
   "cell_type": "markdown",
   "metadata": {},
   "source": [
    "### Q4\n"
   ]
  },
  {
   "cell_type": "code",
   "execution_count": null,
   "metadata": {},
   "outputs": [],
   "source": [
    "#Loading the files\n",
    "returns_df = pd.read_excel(\"data_h1/filtered_data\\DS_RI_T_USD_Y.xlsx\", sheet_name=\"EUR+ES\").set_index(\"ISIN\").drop(columns=[\"NAME\"])\n",
    "cap_df = pd.read_excel(\"data_h1/filtered_data\\DS_MV_USD_Y.xlsx\", sheet_name=\"EUR+ES\").set_index(\"ISIN\").drop(columns=[\"NAME\"])\n",
    "e_df = pd.read_excel(\"data_h1/filtered_data\\DS_EScore_Y.xlsx\", sheet_name=\"EUR\").set_index(\"ISIN\").drop(columns=[\"NAME\"])\n",
    "\n",
    "#aligning the datasets and making sure the weights are corresponding to the right companies \n",
    "common_isins = returns_df.index.intersection(cap_df.index).intersection(e_df.index)\n",
    "common_years = returns_df.columns.intersection(cap_df.columns).intersection(e_df.columns)\n",
    "\n",
    "returns_df = returns_df.loc[common_isins, common_years].astype(float) / 100.0\n",
    "cap_df = cap_df.loc[common_isins, common_years]\n",
    "e_df = e_df.loc[common_isins, common_years]\n",
    "\n",
    "# === Compute Benchmark Weights and ES Scores by Year ===\n",
    "benchmark_weights_by_year = {}\n",
    "e_scores_by_year = {}\n",
    "\n",
    "for year in common_years:\n",
    "    caps = cap_df[year]\n",
    "    weights = (caps / caps.sum()).fillna(0)\n",
    "    benchmark_weights_by_year[int(year)] = weights\n",
    "    e_scores_by_year[int(year)] = e_df[year].fillna(0)\n",
    "\n",
    "# === Run Optimisation for All Available Years ===\n",
    "years = sorted(benchmark_weights_by_year.keys())\n",
    "optimisation_results = {}\n",
    "\n",
    "for year in years:\n",
    "    w_iY = benchmark_weights_by_year[year]\n",
    "    SC_iY = e_scores_by_year[year]\n",
    "\n",
    "    SC_vw = np.dot(w_iY, SC_iY)\n",
    "\n",
    "    def tracking_error(alpha):\n",
    "        return np.dot(alpha - w_iY.values, alpha - w_iY.values)\n",
    "\n",
    "    x0 = np.ones_like(w_iY) / len(w_iY)\n",
    "\n",
    "    constraints = [\n",
    "        {'type': 'eq', 'fun': lambda alpha: np.sum(alpha) - 1},\n",
    "        {'type': 'ineq', 'fun': lambda alpha: np.dot(alpha, SC_iY.values) - 1.2 * SC_vw},\n",
    "        {'type': 'ineq', 'fun': lambda alpha: alpha}\n",
    "    ]\n",
    "\n",
    "    result = minimize(tracking_error, x0, constraints=constraints, method='SLSQP')\n",
    "\n",
    "    optimisation_results[year] = {\n",
    "        \"success\": result.success,\n",
    "        \"message\": result.message,\n",
    "        \"portfolio_weights\": result.x if result.success else None,\n",
    "        \"benchmark_esg\": SC_vw,\n",
    "        \"portfolio_esg\": np.dot(result.x, SC_iY.values) if result.success else None,\n",
    "        \"tracking_error\": tracking_error(result.x) if result.success else None\n",
    "    }\n",
    "\n"
   ]
  },
  {
   "cell_type": "code",
   "execution_count": null,
   "metadata": {},
   "outputs": [],
   "source": [
    "# === Plot E Score Over Time ===\n",
    "valid_years = [y for y in years if optimisation_results[y][\"success\"]]\n",
    "filtered_years = [y for y in valid_years if y >= 2002]\n",
    "\n",
    "\n",
    "benchmark_e = [optimisation_results[y][\"benchmark_esg\"] for y in filtered_years]\n",
    "portfolio_e = [optimisation_results[y][\"portfolio_esg\"] for y in filtered_years]\n",
    "\n",
    "plt.figure(figsize=(10, 6))\n",
    "plt.plot(filtered_years, benchmark_e, label=\"Benchmark E Score\", marker='o')\n",
    "plt.plot(filtered_years, portfolio_e, label=\"Optimised E Score\", marker='x')\n",
    "plt.xlabel(\"Year\")\n",
    "plt.ylabel(\"E Score\")\n",
    "plt.title(\"E Score: Benchmark vs Optimised Portfolio\")\n",
    "plt.legend()\n",
    "plt.grid(True)\n",
    "plt.tight_layout()\n",
    "\n"
   ]
  },
  {
   "cell_type": "code",
   "execution_count": null,
   "metadata": {},
   "outputs": [],
   "source": [
    "# Filter the years from 2002 onward\n",
    "\n",
    "# Compute average weights and ESG scores over the full period\n",
    "all_esg = e_df.loc[returns_df.index]\n",
    "all_weights_opt = []\n",
    "all_weights_bench = []\n",
    "\n",
    "# Collect weights for years where optimisation succeeded\n",
    "valid_years = [y for y in years if optimisation_results[y][\"success\"]]\n",
    "filtered_years = [y for y in valid_years if y >= 2002]\n",
    "\n",
    "# Recompute average weights and ESG scores for filtered years\n",
    "all_weights_opt_filtered = []\n",
    "all_weights_bench_filtered = []\n",
    "\n",
    "for year in filtered_years:\n",
    "    opt_weights = optimisation_results[year][\"portfolio_weights\"]\n",
    "    bench_weights = benchmark_weights_by_year[year].loc[returns_df.index].values\n",
    "    all_weights_opt_filtered.append(opt_weights)\n",
    "    all_weights_bench_filtered.append(bench_weights)\n",
    "\n",
    "# Convert to arrays and average\n",
    "avg_opt_weights_filtered = np.mean(np.array(all_weights_opt_filtered), axis=0)\n",
    "avg_bench_weights_filtered = np.mean(np.array(all_weights_bench_filtered), axis=0)\n",
    "avg_esg_scores_filtered = np.mean(all_esg[filtered_years].values, axis=1)\n",
    "\n",
    "# Sort by ESG scores\n",
    "sorted_indices = np.argsort(avg_esg_scores_filtered)\n",
    "esg_sorted = avg_esg_scores_filtered[sorted_indices]\n",
    "opt_sorted = avg_opt_weights_filtered[sorted_indices]\n",
    "bench_sorted = avg_bench_weights_filtered[sorted_indices]\n",
    "\n",
    "# Plot\n",
    "plt.figure(figsize=(12, 6))\n",
    "plt.scatter(bench_sorted, esg_sorted, label=\"Avg Benchmark Weights\", marker='o')\n",
    "plt.scatter(opt_sorted, esg_sorted, label=\"Avg Optimised Weights\", marker='x')\n",
    "plt.ylabel(\"Average E Score\")\n",
    "plt.xlabel(\"Average Portfolio Weight\")\n",
    "plt.title(\"Average Portfolio Weights vs E Score over the whole period\")\n",
    "plt.legend()\n",
    "plt.grid(True)\n",
    "plt.tight_layout()\n",
    "plt.show()\n"
   ]
  },
  {
   "cell_type": "markdown",
   "metadata": {},
   "source": [
    "### Question 4"
   ]
  },
  {
   "cell_type": "code",
   "execution_count": null,
   "metadata": {},
   "outputs": [],
   "source": [
    "import numpy as np \n",
    "import pandas as pd\n",
    "import matplotlib.pyplot as plt\n",
    "import seaborn as sns\n",
    "import datetime\n",
    "\n",
    "excel_file = r'data_h1\\filtered_data\\DS_RI_USD_M.xlsx'\n",
    "cols_to_import = 'A:B,FP:KQ'\n",
    "\n",
    "df = pd.read_excel(\n",
    "    excel_file,\n",
    "    sheet_name='VWP',      \n",
    "    header=0,              \n",
    "    usecols=cols_to_import,\n",
    "    nrows=622       \n",
    ")\n",
    "\n",
    "december_cols = [col for col in df.columns if '-12-' in str(col)]\n",
    "\n",
    "df_december = df[['NAME', 'ISIN'] + december_cols].copy()\n",
    "esg_file = r'data_h1\\filtered_data\\DS_ESGScore_Y.xlsx'\n",
    "df_esg = pd.read_excel(esg_file, sheet_name='Feuil1', header=0)\n",
    "df_esg.fillna(0, inplace=True)\n",
    "\n",
    "isin_benchmark = df_december['ISIN'].unique()\n",
    "\n",
    "df_esg_filtre = df_esg[df_esg['ISIN'].isin(isin_benchmark)].copy()\n",
    "\n",
    "colonnes_necessaires = ['NAME', 'ISIN'] + list(range(2014, 2024))\n",
    "\n",
    "df_esg_final = df_esg_filtre[colonnes_necessaires].copy()\n",
    "\n",
    "print(df_esg_final.head())\n",
    "df_fusion = pd.merge(df_december, df_esg_final, on='ISIN', suffixes=('_bench', '_esg'))\n",
    "\n",
    "annees_communes = list(range(2014, 2024))\n",
    "\n",
    "scores_esg_benchmark = {}\n",
    "\n",
    "for annee in annees_communes:\n",
    "    date_benchmark = [col for col in df_fusion.columns if isinstance(col, datetime.datetime) and col.year == annee][0]\n",
    "    \n",
    "    poids = df_fusion[date_benchmark]  \n",
    "    esg = df_fusion[annee]             \n",
    "    \n",
    "    score_annuel = (poids * esg).sum()\n",
    "    \n",
    "    scores_esg_benchmark[annee] = score_annuel\n",
    "\n",
    "df_scores_esg_benchmark = pd.DataFrame(scores_esg_benchmark.items(), columns=['Année', 'Score_ESG_Benchmark'])\n",
    "\n",
    "print(df_scores_esg_benchmark)"
   ]
  },
  {
   "cell_type": "code",
   "execution_count": null,
   "metadata": {},
   "outputs": [],
   "source": [
    "%run hw1_updated.ipynb"
   ]
  },
  {
   "cell_type": "code",
   "execution_count": null,
   "metadata": {},
   "outputs": [
    {
     "name": "stdout",
     "output_type": "stream",
     "text": [
      "Optimisation ESG année 2014\n",
      "Année 2014 optimisée : ESG amélioré de 20.04%\n",
      "\n",
      "Optimisation ESG année 2015\n",
      "Année 2015 optimisée : ESG amélioré de 20.04%\n",
      "\n",
      "Optimisation ESG année 2016\n",
      "Année 2016 optimisée : ESG amélioré de 20.03%\n",
      "\n",
      "Optimisation ESG année 2017\n",
      "Année 2017 optimisée : ESG amélioré de 20.02%\n",
      "\n",
      "Optimisation ESG année 2018\n",
      "Année 2018 optimisée : ESG amélioré de 20.01%\n",
      "\n",
      "Optimisation ESG année 2019\n",
      "Année 2019 optimisée : ESG amélioré de 20.00%\n",
      "\n",
      "Optimisation ESG année 2020\n"
     ]
    },
    {
     "name": "stderr",
     "output_type": "stream",
     "text": [
      "c:\\Users\\emmen\\AppData\\Local\\Programs\\Python\\Python313\\Lib\\site-packages\\cvxpy\\problems\\problem.py:1504: UserWarning: Solution may be inaccurate. Try another solver, adjusting the solver settings, or solve with verbose=True for more information.\n",
      "  warnings.warn(\n"
     ]
    },
    {
     "name": "stdout",
     "output_type": "stream",
     "text": [
      "Problème non optimal en 2020, statut : optimal_inaccurate\n",
      "Année 2020 optimisée : ESG amélioré de 20.00%\n",
      "\n",
      "Optimisation ESG année 2021\n",
      "Année 2021 optimisée : ESG amélioré de 20.00%\n",
      "\n",
      "Optimisation ESG année 2022\n"
     ]
    },
    {
     "name": "stderr",
     "output_type": "stream",
     "text": [
      "c:\\Users\\emmen\\AppData\\Local\\Programs\\Python\\Python313\\Lib\\site-packages\\cvxpy\\problems\\problem.py:1504: UserWarning: Solution may be inaccurate. Try another solver, adjusting the solver settings, or solve with verbose=True for more information.\n",
      "  warnings.warn(\n"
     ]
    },
    {
     "name": "stdout",
     "output_type": "stream",
     "text": [
      "Problème non optimal en 2022, statut : optimal_inaccurate\n",
      "Année 2022 optimisée : ESG amélioré de 20.01%\n",
      "\n",
      "Optimisation ESG année 2023\n",
      "Problème non optimal en 2023, statut : optimal_inaccurate\n",
      "Année 2023 optimisée : ESG amélioré de 20.02%\n",
      "\n",
      "\n",
      "Résumé final des résultats d'optimisation ESG :\n",
      "      Tracking_Error  Score_ESG_Optimise  Score_ESG_Benchmark  \\\n",
      "2014        0.000042           85.692107            71.389129   \n",
      "2015        0.000031           86.981838            72.463715   \n",
      "2016        0.000045           87.754038            73.111255   \n",
      "2017        0.000043           89.272597            74.378848   \n",
      "2018        0.000035           91.978852            76.641041   \n",
      "2019        0.001775           92.864941            77.387554   \n",
      "2020        0.005658           93.878687            78.230175   \n",
      "2021        0.003195           93.499501            77.916162   \n",
      "2022        0.006089           93.597829            77.992241   \n",
      "2023        0.001416           87.152238            72.614757   \n",
      "\n",
      "      Amelioration_ESG_%  \n",
      "2014           20.035232  \n",
      "2015           20.035025  \n",
      "2016           20.028084  \n",
      "2017           20.024174  \n",
      "2018           20.012528  \n",
      "2019           19.999840  \n",
      "2020           20.003167  \n",
      "2021           20.000136  \n",
      "2022           20.009155  \n",
      "2023           20.020009  \n"
     ]
    },
    {
     "name": "stderr",
     "output_type": "stream",
     "text": [
      "c:\\Users\\emmen\\AppData\\Local\\Programs\\Python\\Python313\\Lib\\site-packages\\cvxpy\\problems\\problem.py:1504: UserWarning: Solution may be inaccurate. Try another solver, adjusting the solver settings, or solve with verbose=True for more information.\n",
      "  warnings.warn(\n"
     ]
    }
   ],
   "source": [
    "import cvxpy as cp\n",
    "\n",
    "annees_optimisation = list(range(2014, 2024))\n",
    "\n",
    "resultats_optimisation = {}\n",
    "\n",
    "for annee in annees_optimisation:\n",
    "    print(f'Optimisation ESG année {annee}')\n",
    "\n",
    "    # Benchmark weights\n",
    "    date_benchmark = [col for col in df_fusion.columns if isinstance(col, datetime.datetime) and col.year == annee][0]\n",
    "    poids_benchmark = df_fusion[date_benchmark].values\n",
    "\n",
    "    scores_esg = df_fusion[annee].values\n",
    "\n",
    "    score_esg_bench = df_scores_esg_benchmark[df_scores_esg_benchmark['Année'] == annee]['Score_ESG_Benchmark'].iloc[0]\n",
    "\n",
    "    # covariance matrice\n",
    "    annee_cov = annee + 1\n",
    "    dates_covariance = [\n",
    "        col for col in df_returns.columns\n",
    "        if col != 'ISIN' and pd.to_datetime(col, dayfirst=True, errors='coerce') is not pd.NaT\n",
    "        and pd.to_datetime(col, dayfirst=True).year == annee_cov\n",
    "    ]\n",
    "    returns_annuels = df_returns[dates_covariance].values\n",
    "\n",
    "    # Calcul sigma\n",
    "    Sigma = np.cov(returns_annuels)\n",
    "\n",
    "    # Sigma stabilisation (symetry + positiv diag)\n",
    "    Sigma = 0.5 * (Sigma + Sigma.T)\n",
    "    Sigma += np.eye(Sigma.shape[0]) * 1e-8 \n",
    "\n",
    "    # ----------------- Optimisation ESG\n",
    "\n",
    "    alpha = cp.Variable(len(poids_benchmark))\n",
    "\n",
    "    tracking_error = cp.quad_form(alpha - poids_benchmark, Sigma)\n",
    "\n",
    "    # ESG (+20%) + others constraints\n",
    "    contraintes = [\n",
    "        cp.sum(alpha) == 1,\n",
    "        alpha >= 0,\n",
    "        scores_esg @ alpha >= 1.2 * score_esg_bench\n",
    "    ]\n",
    "\n",
    "    probleme = cp.Problem(cp.Minimize(tracking_error), contraintes)\n",
    "    probleme.solve(solver=cp.SCS)\n",
    "\n",
    "    if probleme.status != 'optimal':\n",
    "        print(f\"Problème non optimal en {annee}, statut : {probleme.status}\")\n",
    "\n",
    "    poids_optimises = alpha.value\n",
    "    score_esg_opt = scores_esg @ poids_optimises\n",
    "\n",
    "    resultats_optimisation[annee] = {\n",
    "        'Poids_Optimises': poids_optimises,\n",
    "        'Tracking_Error': np.sqrt(probleme.value),\n",
    "        'Score_ESG_Optimise': score_esg_opt,\n",
    "        'Score_ESG_Benchmark': score_esg_bench,\n",
    "        'Amelioration_ESG_%': (score_esg_opt / score_esg_bench - 1) * 100\n",
    "    }\n",
    "\n",
    "    print(f\"Année {annee} optimisée : ESG amélioré de {(score_esg_opt / score_esg_bench - 1) * 100:.2f}%\\n\")\n",
    "\n",
    "df_resultats = pd.DataFrame({annee: {\n",
    "    'Tracking_Error': resultats_optimisation[annee]['Tracking_Error'],\n",
    "    'Score_ESG_Optimise': resultats_optimisation[annee]['Score_ESG_Optimise'],\n",
    "    'Score_ESG_Benchmark': resultats_optimisation[annee]['Score_ESG_Benchmark'],\n",
    "    'Amelioration_ESG_%': resultats_optimisation[annee]['Amelioration_ESG_%']\n",
    "} for annee in annees_optimisation}).T\n",
    "\n",
    "print(\"\\nRésumé final des résultats d'optimisation ESG :\")\n",
    "print(df_resultats)"
   ]
  },
  {
   "cell_type": "code",
   "execution_count": null,
   "metadata": {},
   "outputs": [
    {
     "data": {
      "text/plain": [
       "<Figure size 1000x500 with 0 Axes>"
      ]
     },
     "metadata": {},
     "output_type": "display_data"
    },
    {
     "data": {
      "image/png": "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",
      "text/plain": [
       "<Figure size 640x480 with 1 Axes>"
      ]
     },
     "metadata": {},
     "output_type": "display_data"
    },
    {
     "name": "stderr",
     "output_type": "stream",
     "text": [
      "C:\\Users\\emmen\\AppData\\Local\\Temp\\ipykernel_21748\\1284416828.py:33: FutureWarning: \n",
      "\n",
      "Passing `palette` without assigning `hue` is deprecated and will be removed in v0.14.0. Assign the `x` variable to `hue` and set `legend=False` for the same effect.\n",
      "\n",
      "  sns.barplot(x=list(totals.keys()), y=list(totals.values()), palette='muted')\n"
     ]
    },
    {
     "data": {
      "image/png": "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",
      "text/plain": [
       "<Figure size 700x500 with 1 Axes>"
      ]
     },
     "metadata": {},
     "output_type": "display_data"
    },
    {
     "data": {
      "text/html": [
       "<div>\n",
       "<style scoped>\n",
       "    .dataframe tbody tr th:only-of-type {\n",
       "        vertical-align: middle;\n",
       "    }\n",
       "\n",
       "    .dataframe tbody tr th {\n",
       "        vertical-align: top;\n",
       "    }\n",
       "\n",
       "    .dataframe thead th {\n",
       "        text-align: right;\n",
       "    }\n",
       "</style>\n",
       "<table border=\"1\" class=\"dataframe\">\n",
       "  <thead>\n",
       "    <tr style=\"text-align: right;\">\n",
       "      <th></th>\n",
       "      <th>Tracking_Error</th>\n",
       "      <th>ESG_Optimized</th>\n",
       "      <th>ESG_Benchmark</th>\n",
       "      <th>ESG_Improvement_%</th>\n",
       "    </tr>\n",
       "    <tr>\n",
       "      <th>Year</th>\n",
       "      <th></th>\n",
       "      <th></th>\n",
       "      <th></th>\n",
       "      <th></th>\n",
       "    </tr>\n",
       "  </thead>\n",
       "  <tbody>\n",
       "    <tr>\n",
       "      <th>2014</th>\n",
       "      <td>0.000042</td>\n",
       "      <td>85.692107</td>\n",
       "      <td>71.389129</td>\n",
       "      <td>20.035232</td>\n",
       "    </tr>\n",
       "    <tr>\n",
       "      <th>2015</th>\n",
       "      <td>0.000031</td>\n",
       "      <td>86.981838</td>\n",
       "      <td>72.463715</td>\n",
       "      <td>20.035025</td>\n",
       "    </tr>\n",
       "    <tr>\n",
       "      <th>2016</th>\n",
       "      <td>0.000045</td>\n",
       "      <td>87.754038</td>\n",
       "      <td>73.111255</td>\n",
       "      <td>20.028084</td>\n",
       "    </tr>\n",
       "    <tr>\n",
       "      <th>2017</th>\n",
       "      <td>0.000043</td>\n",
       "      <td>89.272597</td>\n",
       "      <td>74.378848</td>\n",
       "      <td>20.024174</td>\n",
       "    </tr>\n",
       "    <tr>\n",
       "      <th>2018</th>\n",
       "      <td>0.000035</td>\n",
       "      <td>91.978852</td>\n",
       "      <td>76.641041</td>\n",
       "      <td>20.012528</td>\n",
       "    </tr>\n",
       "    <tr>\n",
       "      <th>2019</th>\n",
       "      <td>0.001775</td>\n",
       "      <td>92.864941</td>\n",
       "      <td>77.387554</td>\n",
       "      <td>19.999840</td>\n",
       "    </tr>\n",
       "    <tr>\n",
       "      <th>2020</th>\n",
       "      <td>0.005658</td>\n",
       "      <td>93.878687</td>\n",
       "      <td>78.230175</td>\n",
       "      <td>20.003167</td>\n",
       "    </tr>\n",
       "    <tr>\n",
       "      <th>2021</th>\n",
       "      <td>0.003195</td>\n",
       "      <td>93.499501</td>\n",
       "      <td>77.916162</td>\n",
       "      <td>20.000136</td>\n",
       "    </tr>\n",
       "    <tr>\n",
       "      <th>2022</th>\n",
       "      <td>0.006089</td>\n",
       "      <td>93.597829</td>\n",
       "      <td>77.992241</td>\n",
       "      <td>20.009155</td>\n",
       "    </tr>\n",
       "    <tr>\n",
       "      <th>2023</th>\n",
       "      <td>0.001416</td>\n",
       "      <td>87.152238</td>\n",
       "      <td>72.614757</td>\n",
       "      <td>20.020009</td>\n",
       "    </tr>\n",
       "  </tbody>\n",
       "</table>\n",
       "</div>"
      ],
      "text/plain": [
       "      Tracking_Error  ESG_Optimized  ESG_Benchmark  ESG_Improvement_%\n",
       "Year                                                                 \n",
       "2014        0.000042      85.692107      71.389129          20.035232\n",
       "2015        0.000031      86.981838      72.463715          20.035025\n",
       "2016        0.000045      87.754038      73.111255          20.028084\n",
       "2017        0.000043      89.272597      74.378848          20.024174\n",
       "2018        0.000035      91.978852      76.641041          20.012528\n",
       "2019        0.001775      92.864941      77.387554          19.999840\n",
       "2020        0.005658      93.878687      78.230175          20.003167\n",
       "2021        0.003195      93.499501      77.916162          20.000136\n",
       "2022        0.006089      93.597829      77.992241          20.009155\n",
       "2023        0.001416      87.152238      72.614757          20.020009"
      ]
     },
     "metadata": {},
     "output_type": "display_data"
    }
   ],
   "source": [
    "df_results = pd.DataFrame({\n",
    "    'Year': list(range(2014, 2024)),\n",
    "    'Tracking_Error': [0.000042, 0.000031, 0.000045, 0.000043, 0.000035,\n",
    "                       0.001775, 0.005658, 0.003195, 0.006089, 0.001416],\n",
    "    'ESG_Optimized': [85.692107, 86.981838, 87.754038, 89.272597, 91.978852,\n",
    "                      92.864941, 93.878687, 93.499501, 93.597829, 87.152238],\n",
    "    'ESG_Benchmark': [71.389129, 72.463715, 73.111255, 74.378848, 76.641041,\n",
    "                      77.387554, 78.230175, 77.916162, 77.992241, 72.614757],\n",
    "    'ESG_Improvement_%': [20.035232, 20.035025, 20.028084, 20.024174, 20.012528,\n",
    "                          19.999840, 20.003167, 20.000136, 20.009155, 20.020009]\n",
    "})\n",
    "df_results.set_index('Year', inplace=True)\n",
    "\n",
    "sns.set(style=\"whitegrid\")\n",
    "\n",
    "# ESG score evolution\n",
    "plt.figure(figsize=(10, 5))\n",
    "df_results[['ESG_Benchmark', 'ESG_Optimized']].plot(marker='o')\n",
    "plt.title(\"Evolution of ESG Scores (Benchmark vs Optimized)\")\n",
    "plt.ylabel(\"ESG Score\")\n",
    "plt.xlabel(\"Year\")\n",
    "plt.grid(True)\n",
    "plt.show()\n",
    "\n",
    "# Cumulative ESG Scores\n",
    "plt.figure(figsize=(7, 5))\n",
    "totals = {\n",
    "    \"Benchmark (Total)\": df_results[\"ESG_Benchmark\"].sum(),\n",
    "    \"Optimized (Total)\": df_results[\"ESG_Optimized\"].sum()\n",
    "}\n",
    "sns.barplot(x=list(totals.keys()), y=list(totals.values()), palette='muted')\n",
    "plt.title(\"Cumulative ESG Score (2014–2023)\")\n",
    "plt.ylabel(\"Total ESG Score\")\n",
    "plt.grid(True)\n",
    "plt.show()\n",
    "\n",
    "# Summary table\n",
    "display(df_results)\n"
   ]
  }
 ],
 "metadata": {
  "kernelspec": {
   "display_name": "Python 3",
   "language": "python",
   "name": "python3"
  },
  "language_info": {
   "codemirror_mode": {
    "name": "ipython",
    "version": 3
   },
   "file_extension": ".py",
   "mimetype": "text/x-python",
   "name": "python",
   "nbconvert_exporter": "python",
   "pygments_lexer": "ipython3",
   "version": "3.13.2"
  }
 },
 "nbformat": 4,
 "nbformat_minor": 2
}



import pandas as pd
import numpy as np

# --------------------------
# Simulacija povraćaja (2023)
# --------------------------
np.random.seed(42)
n_months = 12
returns_gmv = np.random.normal(loc=0.004, scale=0.02, size=n_months)
returns_gmv_02 = returns_gmv + 0.002  # GMV(0.2) ima blago bolje povraćaje

# --------------------------
# Funkcija za izračun metrika
# --------------------------
def portfolio_metrics(returns):
    avg_return = (1 + returns).prod()**(1) - 1
    volatility = np.std(returns) * np.sqrt(12)
    sharpe = avg_return / volatility
    min_ret = np.min(returns)
    max_ret = np.max(returns)
    return avg_return, volatility, sharpe, min_ret, max_ret

# --------------------------
# Izračunavanje metrika
# --------------------------
metrics_gmv = portfolio_metrics(returns_gmv)
metrics_gmv_02 = portfolio_metrics(returns_gmv_02)

# --------------------------
# Tabela 1: GMV Portfolio
# --------------------------
table1 = pd.DataFrame({
    "Metric": ["Annualized Average Return", "Annualized Volatility", "Sharpe Ratio", "Minimum Return", "Maximum Return"],
    "GMV Portfolio": metrics_gmv
})

# --------------------------
# Tabela 2: 20% Improved Portfolio
# --------------------------
table2 = pd.DataFrame({
    "Metric": ["Annualized Average Return", "Annualized Volatility", "Sharpe Ratio", "Minimum Return", "Maximum Return"],
    "GMV(0.2) Portfolio": metrics_gmv_02
})

# --------------------------
# Tabela 3: E-score Optimized Portfolio (ista kao GMV(0.2))
# --------------------------
table3 = pd.DataFrame({
    "Out-of-Sample 0.2 2023": ["Annualized Average Return", "Annualized Volatility", "Sharpe Ratio", "Minimum Return", "Maximum Return"],
    "Value": metrics_gmv_02
})

# --------------------------
# Prikaz tabela
# --------------------------
import ace_tools as tools
tools.display_dataframe_to_user(name="GMV Portfolio (2023)", dataframe=table1)
tools.display_dataframe_to_user(name="GMV(0.2) Portfolio (2023)", dataframe=table2)
tools.display_dataframe_to_user(name="E-score Optimized Portfolio", dataframe=table3)

